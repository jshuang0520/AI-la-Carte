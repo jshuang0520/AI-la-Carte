{
 "cells": [
  {
   "cell_type": "code",
   "execution_count": 11,
   "id": "729e42b3-437a-4b38-a101-2246a8a897d6",
   "metadata": {},
   "outputs": [
    {
     "name": "stdout",
     "output_type": "stream",
     "text": [
      "Loaded 'CAFB_Markets_Cultures_Served' from '../data/CAFB_Markets_Cultures_Served.xlsx' with shape: (41, 3)\n",
      "Loaded 'CAFB_Markets_HOO' from '../data/CAFB_Markets_HOO.xlsx' with shape: (80, 11)\n",
      "Loaded 'CAFB_Markets_Wraparound_Services' from '../data/CAFB_Markets_Wraparound_Services.xlsx' with shape: (151, 3)\n",
      "Loaded 'CAFB_Shopping_Partners_Cultures_Served' from '../data/CAFB_Shopping_Partners_Cultures_Served.xlsx' with shape: (325, 3)\n",
      "Loaded 'CAFB_Shopping_Partners_HOO' from '../data/CAFB_Shopping_Partners_HOO.xlsx' with shape: (924, 18)\n",
      "Loaded 'CAFB_Shopping_Partners_Wraparound_Services' from '../data/CAFB_Shopping_Partners_Wraparound_Services.xlsx' with shape: (1044, 3)\n",
      "\n",
      "Columns in CAFB_Markets_Cultures_Served:\n",
      "['Agency ID', 'Agency Name', 'Cultural Populations Served']\n",
      "\n",
      "Columns in CAFB_Markets_HOO:\n",
      "['Agency ID', 'Agency Name', 'Shipping Address', 'Day or Week', 'Starting Time', 'Ending Time', 'Frequency', 'Food Pantry Requirements', 'Food Format ', 'Choice Options ', 'Distribution Models']\n",
      "\n",
      "Columns in CAFB_Markets_Wraparound_Services:\n",
      "['Agency ID', 'Agency Name', 'Wraparound Service']\n",
      "\n",
      "Columns in CAFB_Shopping_Partners_Cultures_Served:\n",
      "['Agency ID', 'Company Name', 'Cultural Populations Served']\n",
      "\n",
      "Columns in CAFB_Shopping_Partners_HOO:\n",
      "['External ID', 'Name', 'Status', 'Last SO Create Date', 'Agency Region', 'County/Ward', 'Shipping Address', 'Phone', 'Day or Week', 'Monthly Options', 'Starting Time', 'Ending Time', 'By Appointment Only', 'Food Pantry Requirements', 'Date of Last Verification', 'Distribution Models', 'Food Format ', 'Additional Note on Hours of Operations']\n",
      "\n",
      "Columns in CAFB_Shopping_Partners_Wraparound_Services:\n",
      "['Agency ID', 'Agency Name', 'Wraparound Service']\n"
     ]
    }
   ],
   "source": [
    "import os\n",
    "import pandas as pd\n",
    "\n",
    "# Define the relative path to the data directory\n",
    "# Assuming your notebook is in /notebooks and your data files are in /data at the project root,\n",
    "# then the relative path from the notebook would be \"../data\"\n",
    "data_dir = \"../data\"\n",
    "\n",
    "# Define the Excel file paths\n",
    "files = {\n",
    "    \"CAFB_Markets_Cultures_Served\": os.path.join(data_dir, \"CAFB_Markets_Cultures_Served.xlsx\"),\n",
    "    \"CAFB_Markets_HOO\": os.path.join(data_dir, \"CAFB_Markets_HOO.xlsx\"),\n",
    "    \"CAFB_Markets_Wraparound_Services\": os.path.join(data_dir, \"CAFB_Markets_Wraparound_Services.xlsx\"),\n",
    "    \"CAFB_Shopping_Partners_Cultures_Served\": os.path.join(data_dir, \"CAFB_Shopping_Partners_Cultures_Served.xlsx\"),\n",
    "    \"CAFB_Shopping_Partners_HOO\": os.path.join(data_dir, \"CAFB_Shopping_Partners_HOO.xlsx\"),\n",
    "    \"CAFB_Shopping_Partners_Wraparound_Services\": os.path.join(data_dir, \"CAFB_Shopping_Partners_Wraparound_Services.xlsx\")\n",
    "}\n",
    "\n",
    "# Create a dictionary to store each DataFrame\n",
    "dfs = {}\n",
    "\n",
    "# Read each Excel file into a separate DataFrame\n",
    "for name, filepath in files.items():\n",
    "    if os.path.exists(filepath):\n",
    "        df = pd.read_excel(filepath)\n",
    "        dfs[name] = df\n",
    "        print(f\"Loaded '{name}' from '{filepath}' with shape: {df.shape}\")\n",
    "    else:\n",
    "        print(f\"File not found: {filepath}\")\n",
    "\n",
    "# Display the columns for each DataFrame to inspect the schema\n",
    "for name, df in dfs.items():\n",
    "    print(f\"\\nColumns in {name}:\")\n",
    "    print(df.columns.tolist())\n"
   ]
  },
  {
   "cell_type": "code",
   "execution_count": 13,
   "id": "e86b6575-1b16-474a-a1d1-ebce604e81c6",
   "metadata": {},
   "outputs": [
    {
     "data": {
      "text/plain": [
       "dict"
      ]
     },
     "execution_count": 13,
     "metadata": {},
     "output_type": "execute_result"
    }
   ],
   "source": [
    "type(dfs)"
   ]
  },
  {
   "cell_type": "code",
   "execution_count": 17,
   "id": "af7f6aa2-4f45-4f7c-8759-41fbc864fd4f",
   "metadata": {},
   "outputs": [
    {
     "name": "stdout",
     "output_type": "stream",
     "text": [
      "'hi'\n"
     ]
    }
   ],
   "source": [
    "import pprint\n",
    "pp = pprint.PrettyPrinter(indent=4)\n",
    "pp.pprint('hi')"
   ]
  },
  {
   "cell_type": "code",
   "execution_count": 18,
   "id": "89830d60-cee0-4291-bb68-83f100f42a13",
   "metadata": {},
   "outputs": [
    {
     "name": "stdout",
     "output_type": "stream",
     "text": [
      "CAFB_Markets_Cultures_Served\n",
      "CAFB_Markets_HOO\n",
      "CAFB_Markets_Wraparound_Services\n",
      "CAFB_Shopping_Partners_Cultures_Served\n",
      "CAFB_Shopping_Partners_HOO\n",
      "CAFB_Shopping_Partners_Wraparound_Services\n"
     ]
    }
   ],
   "source": [
    "for k in dfs.keys():\n",
    "    print(k)"
   ]
  },
  {
   "cell_type": "code",
   "execution_count": null,
   "id": "34020648-86a4-4f1b-9b1c-fb41e96f01f6",
   "metadata": {},
   "outputs": [],
   "source": []
  }
 ],
 "metadata": {
  "kernelspec": {
   "display_name": "Python 3 (ipykernel)",
   "language": "python",
   "name": "python3"
  },
  "language_info": {
   "codemirror_mode": {
    "name": "ipython",
    "version": 3
   },
   "file_extension": ".py",
   "mimetype": "text/x-python",
   "name": "python",
   "nbconvert_exporter": "python",
   "pygments_lexer": "ipython3",
   "version": "3.12.9"
  }
 },
 "nbformat": 4,
 "nbformat_minor": 5
}
